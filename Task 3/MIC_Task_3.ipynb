{
  "nbformat": 4,
  "nbformat_minor": 0,
  "metadata": {
    "colab": {
      "provenance": []
    },
    "kernelspec": {
      "name": "python3",
      "display_name": "Python 3"
    },
    "language_info": {
      "name": "python"
    }
  },
  "cells": [
    {
      "cell_type": "code",
      "execution_count": 1,
      "metadata": {
        "id": "HeDbKdE72meq"
      },
      "outputs": [],
      "source": [
        "import pandas as pd\n",
        "import numpy as np\n",
        "import tensorflow as tf\n",
        "from sklearn.model_selection import train_test_split\n",
        "from sklearn.preprocessing import MinMaxScaler, LabelEncoder\n",
        "from sklearn.metrics import accuracy_score\n",
        "from tensorflow import keras\n",
        "import matplotlib.pyplot as plt"
      ]
    },
    {
      "cell_type": "code",
      "source": [
        "from google.colab import drive\n",
        "drive.mount('/content/drive')\n",
        "dataset_path = '/content/drive/MyDrive/task3_dataset.csv'\n",
        "df = pd.read_csv(dataset_path)"
      ],
      "metadata": {
        "colab": {
          "base_uri": "https://localhost:8080/"
        },
        "id": "bHVe6VfE2-3B",
        "outputId": "05bd4ffd-a89e-4fa9-da0b-0744f3aa3992"
      },
      "execution_count": 2,
      "outputs": [
        {
          "output_type": "stream",
          "name": "stdout",
          "text": [
            "Drive already mounted at /content/drive; to attempt to forcibly remount, call drive.mount(\"/content/drive\", force_remount=True).\n"
          ]
        },
        {
          "output_type": "stream",
          "name": "stderr",
          "text": [
            "<ipython-input-2-d0beda4a4b34>:4: DtypeWarning: Columns (26) have mixed types. Specify dtype option on import or set low_memory=False.\n",
            "  df = pd.read_csv(dataset_path)\n"
          ]
        }
      ]
    },
    {
      "cell_type": "code",
      "source": [
        "# Encode categorical columns\n",
        "categorical_cols = ['Month', 'Name', 'SSN', 'Occupation', 'Type_of_Loan', 'Credit_Mix', 'Credit_History_Age', 'Payment_of_Min_Amount', 'Payment_Behaviour', 'Credit_Score']\n",
        "encoder = LabelEncoder()\n",
        "df[categorical_cols] = df[categorical_cols].apply(encoder.fit_transform)\n",
        "\n",
        "numeric_cols = ['Age', 'Annual_Income', 'Monthly_Inhand_Salary', 'Num_Bank_Accounts', 'Num_Credit_Card', 'Interest_Rate', 'Num_of_Loan', 'Delay_from_due_date', 'Num_of_Delayed_Payment', 'Changed_Credit_Limit', 'Num_Credit_Inquiries', 'Outstanding_Debt', 'Credit_Utilization_Ratio', 'Total_EMI_per_month', 'Amount_invested_monthly','Monthly_Balance']\n",
        "\n",
        "# Handling outliers\n",
        "for col in numeric_cols:\n",
        "    df[col] = pd.to_numeric(df[col], errors='coerce')\n",
        "for col in numeric_cols:\n",
        "    Q1 = df[col].quantile(0.25)\n",
        "    Q3 = df[col].quantile(0.75)\n",
        "    IQR = Q3 - Q1\n",
        "    lower_bound = Q1 - 1.5 * IQR\n",
        "    upper_bound = Q3 + 1.5 * IQR\n",
        "    df[col] = np.where(df[col] < lower_bound, lower_bound, df[col])\n",
        "    df[col] = np.where(df[col] > upper_bound, upper_bound, df[col])\n",
        "\n",
        "# Scale numeric columns\n",
        "def extract_numeric(value):\n",
        "    if isinstance(value, str):\n",
        "        value = value.replace('_', '')\n",
        "        value = value.replace('-', '')\n",
        "        try:\n",
        "            return pd.to_numeric(value)\n",
        "        except ValueError:\n",
        "            return np.nan\n",
        "    return value\n",
        "for col in numeric_cols:\n",
        "    df[col] = df[col].apply(extract_numeric)\n",
        "scaler = MinMaxScaler()\n",
        "df[numeric_cols] = scaler.fit_transform(df[numeric_cols])\n",
        "#print(df.head(10))"
      ],
      "metadata": {
        "id": "fNl4m42g35dj"
      },
      "execution_count": 4,
      "outputs": []
    },
    {
      "cell_type": "code",
      "source": [
        "from sklearn.compose import ColumnTransformer\n",
        "from sklearn.preprocessing import OneHotEncoder\n",
        "# Merge the numeric and categorical columns and drop the Credit_Score column\n",
        "X = pd.concat([df[numeric_cols], df[categorical_cols]], axis=1).drop('Credit_Score', axis=1)\n",
        "y = df['Credit_Score']\n",
        "\n",
        "# Encode the second column using one-hot encoding\n",
        "ct = ColumnTransformer(transformers=[('encoder', OneHotEncoder(), [1])], remainder='passthrough')\n",
        "X = ct.fit_transform(X).toarray()\n",
        "\n",
        "# Select a random subset of the data\n",
        "subset_indices = np.random.choice(X.shape[0], size=20000, replace=False)\n",
        "X_subset = X[subset_indices]\n",
        "y_subset = y[subset_indices]\n",
        "\n",
        "# Split the dataset into training and validation sets\n",
        "X_train, X_val, y_train, y_val = train_test_split(X_subset, y_subset, test_size=0.25, random_state=42)"
      ],
      "metadata": {
        "id": "IBZREAsg3-AW"
      },
      "execution_count": 5,
      "outputs": []
    },
    {
      "cell_type": "code",
      "source": [
        "from sklearn.impute import SimpleImputer\n",
        "from sklearn.decomposition import TruncatedSVD\n",
        "\n",
        "# Handle missing values\n",
        "imputer = SimpleImputer(strategy='mean')\n",
        "row_indices = np.random.randint(0, X_train.shape[0], size=1000)\n",
        "sample = X_train[row_indices]\n",
        "imputer.fit(sample)\n",
        "\n",
        "X_train_imputed = np.empty(X_train.shape)\n",
        "X_val_imputed = np.empty(X_val.shape)\n",
        "\n",
        "batch_size = 500\n",
        "for i in range(0, X_train.shape[0], batch_size):\n",
        "    X_train_imputed[i:i+batch_size] = imputer.transform(X_train[i:i+batch_size])\n",
        "    if i < X_val.shape[0]:\n",
        "        X_val_imputed[i:i+batch_size] = imputer.transform(X_val[i:i+batch_size])\n",
        "\n",
        "\n",
        "# Apply TruncatedSVD to reduce the dimensionality of the input data\n",
        "svd = TruncatedSVD(n_components=1000)\n",
        "X_train_svd = np.empty((X_train_imputed.shape[0], 1000))\n",
        "X_val_svd = np.empty((X_val_imputed.shape[0], 1000))\n",
        "\n",
        "batch_size = 1000\n",
        "for i in range(0, X_train_imputed.shape[0], batch_size):\n",
        "    X_train_svd[i:i+batch_size] = svd.fit_transform(X_train_imputed[i:i+batch_size])\n",
        "    if i < X_val_imputed.shape[0]:\n",
        "        X_val_svd[i:i+batch_size] = svd.transform(X_val_imputed[i:i+batch_size])\n"
      ],
      "metadata": {
        "id": "IFxmESwPa68G"
      },
      "execution_count": 7,
      "outputs": []
    },
    {
      "cell_type": "code",
      "source": [
        "from tensorflow.keras.models import Sequential\n",
        "from tensorflow.keras.layers import Dense\n",
        "from tensorflow.keras.regularizers import l2\n",
        "\n",
        "model = Sequential()\n",
        "model.add(Dense(64, activation='relu', input_shape=(X_train_svd.shape[1],), kernel_regularizer=l2(0.01)))\n",
        "model.add(Dense(32, activation='relu', kernel_regularizer=l2(0.01)))\n",
        "model.add(Dense(16, activation='relu', kernel_regularizer=l2(0.01)))\n",
        "model.add(Dense(y.nunique(), activation='softmax'))"
      ],
      "metadata": {
        "id": "EHc0tBOi4A0P"
      },
      "execution_count": 8,
      "outputs": []
    },
    {
      "cell_type": "code",
      "source": [
        "from keras.utils import plot_model\n",
        "plot_model(model,\n",
        "           to_file=\"model.png\",\n",
        "           show_shapes=True,\n",
        "           show_layer_names=True,\n",
        "          )"
      ],
      "metadata": {
        "colab": {
          "base_uri": "https://localhost:8080/",
          "height": 533
        },
        "id": "KFuBQdD0UoHp",
        "outputId": "baa3651d-9693-43be-a794-65e9ed1fabd2"
      },
      "execution_count": 9,
      "outputs": [
        {
          "output_type": "execute_result",
          "data": {
            "image/png": "[encoded data removed]",
            "text/plain": [
              "<IPython.core.display.Image object>"
            ]
          },
          "metadata": {},
          "execution_count": 9
        }
      ]
    },
    {
      "cell_type": "code",
      "source": [
        "model.compile(loss='sparse_categorical_crossentropy', optimizer=keras.optimizers.Adam(learning_rate=0.0001), metrics=['accuracy'])\n",
        "history = model.fit(X_train_svd, y_train, validation_data=(X_val_svd, y_val), epochs=20, batch_size=64)"
      ],
      "metadata": {
        "colab": {
          "base_uri": "https://localhost:8080/"
        },
        "id": "yLHV94yAU4rr",
        "outputId": "98707e09-190b-4a92-9b70-11e9c96b2e7d"
      },
      "execution_count": 10,
      "outputs": [
        {
          "output_type": "stream",
          "name": "stdout",
          "text": [
            "Epoch 1/20\n",
            "235/235 [==============================] - 3s 9ms/step - loss: 27.1083 - accuracy: 0.4112 - val_loss: 5.5964 - val_accuracy: 0.3722\n",
            "Epoch 2/20\n",
            "235/235 [==============================] - 2s 7ms/step - loss: 4.1735 - accuracy: 0.4078 - val_loss: 3.1509 - val_accuracy: 0.4480\n",
            "Epoch 3/20\n",
            "235/235 [==============================] - 1s 6ms/step - loss: 2.9425 - accuracy: 0.4119 - val_loss: 2.7014 - val_accuracy: 0.3734\n",
            "Epoch 4/20\n",
            "235/235 [==============================] - 1s 5ms/step - loss: 2.5760 - accuracy: 0.4204 - val_loss: 2.5719 - val_accuracy: 0.3822\n",
            "Epoch 5/20\n",
            "235/235 [==============================] - 1s 6ms/step - loss: 2.3047 - accuracy: 0.4175 - val_loss: 2.1974 - val_accuracy: 0.4002\n",
            "Epoch 6/20\n",
            "235/235 [==============================] - 1s 5ms/step - loss: 2.1554 - accuracy: 0.4197 - val_loss: 2.1251 - val_accuracy: 0.4862\n",
            "Epoch 7/20\n",
            "235/235 [==============================] - 1s 4ms/step - loss: 1.9886 - accuracy: 0.4298 - val_loss: 2.0336 - val_accuracy: 0.4474\n",
            "Epoch 8/20\n",
            "235/235 [==============================] - 1s 4ms/step - loss: 1.9121 - accuracy: 0.4327 - val_loss: 1.8392 - val_accuracy: 0.4892\n",
            "Epoch 9/20\n",
            "235/235 [==============================] - 1s 5ms/step - loss: 1.8990 - accuracy: 0.4344 - val_loss: 1.7543 - val_accuracy: 0.4826\n",
            "Epoch 10/20\n",
            "235/235 [==============================] - 1s 4ms/step - loss: 1.7783 - accuracy: 0.4403 - val_loss: 2.0895 - val_accuracy: 0.3182\n",
            "Epoch 11/20\n",
            "235/235 [==============================] - 1s 4ms/step - loss: 1.7865 - accuracy: 0.4399 - val_loss: 2.0487 - val_accuracy: 0.3286\n",
            "Epoch 12/20\n",
            "235/235 [==============================] - 1s 5ms/step - loss: 1.7327 - accuracy: 0.4377 - val_loss: 1.6311 - val_accuracy: 0.4568\n",
            "Epoch 13/20\n",
            "235/235 [==============================] - 2s 7ms/step - loss: 1.6781 - accuracy: 0.4439 - val_loss: 1.6164 - val_accuracy: 0.4846\n",
            "Epoch 14/20\n",
            "235/235 [==============================] - 2s 7ms/step - loss: 1.6996 - accuracy: 0.4463 - val_loss: 1.7428 - val_accuracy: 0.4802\n",
            "Epoch 15/20\n",
            "235/235 [==============================] - 1s 6ms/step - loss: 1.6917 - accuracy: 0.4392 - val_loss: 1.6816 - val_accuracy: 0.4844\n",
            "Epoch 16/20\n",
            "235/235 [==============================] - 1s 5ms/step - loss: 1.6394 - accuracy: 0.4439 - val_loss: 1.5615 - val_accuracy: 0.4810\n",
            "Epoch 17/20\n",
            "235/235 [==============================] - 1s 5ms/step - loss: 1.6927 - accuracy: 0.4392 - val_loss: 1.5942 - val_accuracy: 0.4276\n",
            "Epoch 18/20\n",
            "235/235 [==============================] - 1s 5ms/step - loss: 1.6173 - accuracy: 0.4481 - val_loss: 1.5118 - val_accuracy: 0.5004\n",
            "Epoch 19/20\n",
            "235/235 [==============================] - 1s 4ms/step - loss: 1.6038 - accuracy: 0.4470 - val_loss: 1.6265 - val_accuracy: 0.3856\n",
            "Epoch 20/20\n",
            "235/235 [==============================] - 1s 5ms/step - loss: 1.6238 - accuracy: 0.4487 - val_loss: 1.5926 - val_accuracy: 0.4956\n"
          ]
        }
      ]
    }
  ]
}